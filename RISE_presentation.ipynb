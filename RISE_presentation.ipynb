{
 "cells": [
  {
   "cell_type": "markdown",
   "metadata": {},
   "source": [
    "Towards Neuronal Deep Fakes: Data Driven Optimization of Reduced Neuronal Models\n",
    "========================================================\n",
    "author: Russell Jarvis, PhD candidate Neuroscience. \n",
    "ICON Laboratory.\n",
    "Co-advisors: Prof Richard Gerkin, Prof Sharon Crook.\n",
    "PhD Committee: Prof Richard Gerkin, Prof Sharon Crook Prof Yi Zhou, Prof James Abbas.\n",
    "date: 5 November 2020\n"
   ]
  },
  {
   "cell_type": "markdown",
   "metadata": {},
   "source": [
    "Introduction\n",
    "========================================================\n",
    "- Better electrical models of the brain are needed.\n",
    "- Better brain models will Improve Medicine and Artificial Intelligence.\n",
    "- Current models are lacking in speed, accuracy, and interprebility.\n",
    "- A simple pathway to model improvement is to make models faster more accurate, and more interpretable.\n"
   ]
  },
  {
   "cell_type": "markdown",
   "metadata": {},
   "source": [
    "\n",
    "Virtual Experiments\n",
    "========================================================\n",
    "<p>\n",
    "- What they are and why?\n",
    "</p>\n",
    "Many Electrical Neuron Models \n",
    "are capable of simulation applied current injections at the cell soma.\n",
    "<p>\n",
    "- Virtual experiments are a way of finding out information about in vitro cells.\n",
    "Virtual experiments can also help to bring models and in vivo cells into better alignment.\n",
    "</p> \n",
    "\n",
    "![voltage clamp](figures/vclamp.png)"
   ]
  },
  {
   "cell_type": "code",
   "execution_count": null,
   "metadata": {},
   "outputs": [],
   "source": []
  }
 ],
 "metadata": {
  "kernelspec": {
   "display_name": "Python 3",
   "language": "python",
   "name": "python3"
  },
  "language_info": {
   "codemirror_mode": {
    "name": "ipython",
    "version": 3
   },
   "file_extension": ".py",
   "mimetype": "text/x-python",
   "name": "python",
   "nbconvert_exporter": "python",
   "pygments_lexer": "ipython3",
   "version": "3.7.4"
  }
 },
 "nbformat": 4,
 "nbformat_minor": 2
}
